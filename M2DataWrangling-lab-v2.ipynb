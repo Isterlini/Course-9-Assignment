{
 "cells": [
  {
   "cell_type": "markdown",
   "metadata": {},
   "source": [
    "<p style=\"text-align:center\">\n",
    "    <a href=\"https://skills.network\" target=\"_blank\">\n",
    "    <img src=\"https://cf-courses-data.s3.us.cloud-object-storage.appdomain.cloud/assets/logos/SN_web_lightmode.png\" width=\"200\" alt=\"Skills Network Logo\"  />\n",
    "    </a>\n",
    "</p>\n"
   ]
  },
  {
   "cell_type": "markdown",
   "metadata": {},
   "source": [
    "# **Data Wrangling Lab**\n"
   ]
  },
  {
   "cell_type": "markdown",
   "metadata": {},
   "source": [
    "Estimated time needed: **45** minutes\n"
   ]
  },
  {
   "cell_type": "markdown",
   "metadata": {},
   "source": [
    "In this lab, you will perform data wrangling tasks to prepare raw data for analysis. Data wrangling involves cleaning, transforming, and organizing data into a structured format suitable for analysis. This lab focuses on tasks like identifying inconsistencies, encoding categorical variables, and feature transformation.\n"
   ]
  },
  {
   "cell_type": "markdown",
   "metadata": {},
   "source": [
    "## Objectives\n"
   ]
  },
  {
   "cell_type": "markdown",
   "metadata": {},
   "source": [
    "After completing this lab, you will be able to:\n"
   ]
  },
  {
   "cell_type": "markdown",
   "metadata": {},
   "source": [
    "- Identify and remove inconsistent data entries.\n",
    "\n",
    "- Encode categorical variables for analysis.\n",
    "\n",
    "- Handle missing values using multiple imputation strategies.\n",
    "\n",
    "- Apply feature scaling and transformation techniques.\n"
   ]
  },
  {
   "cell_type": "markdown",
   "metadata": {},
   "source": [
    "#### Intsall the required libraries\n"
   ]
  },
  {
   "cell_type": "code",
   "execution_count": 14,
   "metadata": {},
   "outputs": [
    {
     "name": "stdout",
     "output_type": "stream",
     "text": [
      "Requirement already satisfied: pandas in /opt/conda/lib/python3.12/site-packages (2.3.2)\n",
      "Requirement already satisfied: numpy>=1.26.0 in /opt/conda/lib/python3.12/site-packages (from pandas) (2.3.3)\n",
      "Requirement already satisfied: python-dateutil>=2.8.2 in /opt/conda/lib/python3.12/site-packages (from pandas) (2.9.0.post0)\n",
      "Requirement already satisfied: pytz>=2020.1 in /opt/conda/lib/python3.12/site-packages (from pandas) (2024.2)\n",
      "Requirement already satisfied: tzdata>=2022.7 in /opt/conda/lib/python3.12/site-packages (from pandas) (2025.2)\n",
      "Requirement already satisfied: six>=1.5 in /opt/conda/lib/python3.12/site-packages (from python-dateutil>=2.8.2->pandas) (1.17.0)\n",
      "Requirement already satisfied: matplotlib in /opt/conda/lib/python3.12/site-packages (3.10.6)\n",
      "Requirement already satisfied: contourpy>=1.0.1 in /opt/conda/lib/python3.12/site-packages (from matplotlib) (1.3.3)\n",
      "Requirement already satisfied: cycler>=0.10 in /opt/conda/lib/python3.12/site-packages (from matplotlib) (0.12.1)\n",
      "Requirement already satisfied: fonttools>=4.22.0 in /opt/conda/lib/python3.12/site-packages (from matplotlib) (4.60.0)\n",
      "Requirement already satisfied: kiwisolver>=1.3.1 in /opt/conda/lib/python3.12/site-packages (from matplotlib) (1.4.9)\n",
      "Requirement already satisfied: numpy>=1.23 in /opt/conda/lib/python3.12/site-packages (from matplotlib) (2.3.3)\n",
      "Requirement already satisfied: packaging>=20.0 in /opt/conda/lib/python3.12/site-packages (from matplotlib) (24.2)\n",
      "Requirement already satisfied: pillow>=8 in /opt/conda/lib/python3.12/site-packages (from matplotlib) (11.3.0)\n",
      "Requirement already satisfied: pyparsing>=2.3.1 in /opt/conda/lib/python3.12/site-packages (from matplotlib) (3.2.5)\n",
      "Requirement already satisfied: python-dateutil>=2.7 in /opt/conda/lib/python3.12/site-packages (from matplotlib) (2.9.0.post0)\n",
      "Requirement already satisfied: six>=1.5 in /opt/conda/lib/python3.12/site-packages (from python-dateutil>=2.7->matplotlib) (1.17.0)\n"
     ]
    }
   ],
   "source": [
    "!pip install pandas\n",
    "!pip install matplotlib"
   ]
  },
  {
   "cell_type": "markdown",
   "metadata": {},
   "source": [
    "## Tasks\n"
   ]
  },
  {
   "cell_type": "markdown",
   "metadata": {},
   "source": [
    "#### Step 1: Import the necessary module.\n"
   ]
  },
  {
   "cell_type": "markdown",
   "metadata": {},
   "source": [
    "### 1. Load the Dataset\n"
   ]
  },
  {
   "cell_type": "markdown",
   "metadata": {},
   "source": [
    "<h5>1.1 Import necessary libraries and load the dataset.</h5>\n"
   ]
  },
  {
   "cell_type": "markdown",
   "metadata": {},
   "source": [
    "Ensure the dataset is loaded correctly by displaying the first few rows.\n"
   ]
  },
  {
   "cell_type": "code",
   "execution_count": 2,
   "metadata": {},
   "outputs": [
    {
     "name": "stdout",
     "output_type": "stream",
     "text": [
      "   ResponseId                      MainBranch                 Age  \\\n",
      "0           1  I am a developer by profession  Under 18 years old   \n",
      "1           2  I am a developer by profession     35-44 years old   \n",
      "2           3  I am a developer by profession     45-54 years old   \n",
      "3           4           I am learning to code     18-24 years old   \n",
      "4           5  I am a developer by profession     18-24 years old   \n",
      "\n",
      "            Employment RemoteWork   Check  \\\n",
      "0  Employed, full-time     Remote  Apples   \n",
      "1  Employed, full-time     Remote  Apples   \n",
      "2  Employed, full-time     Remote  Apples   \n",
      "3   Student, full-time        NaN  Apples   \n",
      "4   Student, full-time        NaN  Apples   \n",
      "\n",
      "                                    CodingActivities  \\\n",
      "0                                              Hobby   \n",
      "1  Hobby;Contribute to open-source projects;Other...   \n",
      "2  Hobby;Contribute to open-source projects;Other...   \n",
      "3                                                NaN   \n",
      "4                                                NaN   \n",
      "\n",
      "                                             EdLevel  \\\n",
      "0                          Primary/elementary school   \n",
      "1       Bachelor’s degree (B.A., B.S., B.Eng., etc.)   \n",
      "2    Master’s degree (M.A., M.S., M.Eng., MBA, etc.)   \n",
      "3  Some college/university study without earning ...   \n",
      "4  Secondary school (e.g. American high school, G...   \n",
      "\n",
      "                                           LearnCode  \\\n",
      "0                             Books / Physical media   \n",
      "1  Books / Physical media;Colleague;On the job tr...   \n",
      "2  Books / Physical media;Colleague;On the job tr...   \n",
      "3  Other online resources (e.g., videos, blogs, f...   \n",
      "4  Other online resources (e.g., videos, blogs, f...   \n",
      "\n",
      "                                     LearnCodeOnline  ... JobSatPoints_6  \\\n",
      "0                                                NaN  ...            NaN   \n",
      "1  Technical documentation;Blogs;Books;Written Tu...  ...            0.0   \n",
      "2  Technical documentation;Blogs;Books;Written Tu...  ...            NaN   \n",
      "3  Stack Overflow;How-to videos;Interactive tutorial  ...            NaN   \n",
      "4  Technical documentation;Blogs;Written Tutorial...  ...            NaN   \n",
      "\n",
      "  JobSatPoints_7 JobSatPoints_8 JobSatPoints_9 JobSatPoints_10  \\\n",
      "0            NaN            NaN            NaN             NaN   \n",
      "1            0.0            0.0            0.0             0.0   \n",
      "2            NaN            NaN            NaN             NaN   \n",
      "3            NaN            NaN            NaN             NaN   \n",
      "4            NaN            NaN            NaN             NaN   \n",
      "\n",
      "  JobSatPoints_11           SurveyLength SurveyEase ConvertedCompYearly JobSat  \n",
      "0             NaN                    NaN        NaN                 NaN    NaN  \n",
      "1             0.0                    NaN        NaN                 NaN    NaN  \n",
      "2             NaN  Appropriate in length       Easy                 NaN    NaN  \n",
      "3             NaN               Too long       Easy                 NaN    NaN  \n",
      "4             NaN              Too short       Easy                 NaN    NaN  \n",
      "\n",
      "[5 rows x 114 columns]\n"
     ]
    }
   ],
   "source": [
    "# Import necessary libraries\n",
    "import pandas as pd\n",
    "\n",
    "# Load the Stack Overflow survey data\n",
    "dataset_url = \"https://cf-courses-data.s3.us.cloud-object-storage.appdomain.cloud/n01PQ9pSmiRX6520flujwQ/survey-data.csv\"\n",
    "df = pd.read_csv(dataset_url)\n",
    "\n",
    "# Display the first few rows\n",
    "print(df.head())\n"
   ]
  },
  {
   "cell_type": "markdown",
   "metadata": {},
   "source": [
    "#### 2. Explore the Dataset\n"
   ]
  },
  {
   "cell_type": "markdown",
   "metadata": {},
   "source": [
    "<h5>2.1 Summarize the dataset by displaying the column data types, counts, and missing values.</h5>\n"
   ]
  },
  {
   "cell_type": "code",
   "execution_count": 4,
   "metadata": {},
   "outputs": [
    {
     "name": "stdout",
     "output_type": "stream",
     "text": [
      "<class 'pandas.core.frame.DataFrame'>\n",
      "RangeIndex: 65437 entries, 0 to 65436\n",
      "Columns: 114 entries, ResponseId to JobSat\n",
      "dtypes: float64(13), int64(1), object(100)\n",
      "memory usage: 56.9+ MB\n"
     ]
    }
   ],
   "source": [
    "# Write your code here\n",
    "df.info()"
   ]
  },
  {
   "cell_type": "markdown",
   "metadata": {},
   "source": [
    "<h5>2.2 Generate basic statistics for numerical columns.</h5>\n"
   ]
  },
  {
   "cell_type": "code",
   "execution_count": 5,
   "metadata": {},
   "outputs": [
    {
     "data": {
      "text/html": [
       "<div>\n",
       "<style scoped>\n",
       "    .dataframe tbody tr th:only-of-type {\n",
       "        vertical-align: middle;\n",
       "    }\n",
       "\n",
       "    .dataframe tbody tr th {\n",
       "        vertical-align: top;\n",
       "    }\n",
       "\n",
       "    .dataframe thead th {\n",
       "        text-align: right;\n",
       "    }\n",
       "</style>\n",
       "<table border=\"1\" class=\"dataframe\">\n",
       "  <thead>\n",
       "    <tr style=\"text-align: right;\">\n",
       "      <th></th>\n",
       "      <th>ResponseId</th>\n",
       "      <th>CompTotal</th>\n",
       "      <th>WorkExp</th>\n",
       "      <th>JobSatPoints_1</th>\n",
       "      <th>JobSatPoints_4</th>\n",
       "      <th>JobSatPoints_5</th>\n",
       "      <th>JobSatPoints_6</th>\n",
       "      <th>JobSatPoints_7</th>\n",
       "      <th>JobSatPoints_8</th>\n",
       "      <th>JobSatPoints_9</th>\n",
       "      <th>JobSatPoints_10</th>\n",
       "      <th>JobSatPoints_11</th>\n",
       "      <th>ConvertedCompYearly</th>\n",
       "      <th>JobSat</th>\n",
       "    </tr>\n",
       "  </thead>\n",
       "  <tbody>\n",
       "    <tr>\n",
       "      <th>count</th>\n",
       "      <td>65437.000000</td>\n",
       "      <td>3.374000e+04</td>\n",
       "      <td>29658.000000</td>\n",
       "      <td>29324.000000</td>\n",
       "      <td>29393.000000</td>\n",
       "      <td>29411.000000</td>\n",
       "      <td>29450.000000</td>\n",
       "      <td>29448.00000</td>\n",
       "      <td>29456.000000</td>\n",
       "      <td>29456.000000</td>\n",
       "      <td>29450.000000</td>\n",
       "      <td>29445.000000</td>\n",
       "      <td>2.343500e+04</td>\n",
       "      <td>29126.000000</td>\n",
       "    </tr>\n",
       "    <tr>\n",
       "      <th>mean</th>\n",
       "      <td>32719.000000</td>\n",
       "      <td>2.963841e+145</td>\n",
       "      <td>11.466957</td>\n",
       "      <td>18.581094</td>\n",
       "      <td>7.522140</td>\n",
       "      <td>10.060857</td>\n",
       "      <td>24.343232</td>\n",
       "      <td>22.96522</td>\n",
       "      <td>20.278165</td>\n",
       "      <td>16.169432</td>\n",
       "      <td>10.955713</td>\n",
       "      <td>9.953948</td>\n",
       "      <td>8.615529e+04</td>\n",
       "      <td>6.935041</td>\n",
       "    </tr>\n",
       "    <tr>\n",
       "      <th>std</th>\n",
       "      <td>18890.179119</td>\n",
       "      <td>5.444117e+147</td>\n",
       "      <td>9.168709</td>\n",
       "      <td>25.966221</td>\n",
       "      <td>18.422661</td>\n",
       "      <td>21.833836</td>\n",
       "      <td>27.089360</td>\n",
       "      <td>27.01774</td>\n",
       "      <td>26.108110</td>\n",
       "      <td>24.845032</td>\n",
       "      <td>22.906263</td>\n",
       "      <td>21.775652</td>\n",
       "      <td>1.867570e+05</td>\n",
       "      <td>2.088259</td>\n",
       "    </tr>\n",
       "    <tr>\n",
       "      <th>min</th>\n",
       "      <td>1.000000</td>\n",
       "      <td>0.000000e+00</td>\n",
       "      <td>0.000000</td>\n",
       "      <td>0.000000</td>\n",
       "      <td>0.000000</td>\n",
       "      <td>0.000000</td>\n",
       "      <td>0.000000</td>\n",
       "      <td>0.00000</td>\n",
       "      <td>0.000000</td>\n",
       "      <td>0.000000</td>\n",
       "      <td>0.000000</td>\n",
       "      <td>0.000000</td>\n",
       "      <td>1.000000e+00</td>\n",
       "      <td>0.000000</td>\n",
       "    </tr>\n",
       "    <tr>\n",
       "      <th>25%</th>\n",
       "      <td>16360.000000</td>\n",
       "      <td>6.000000e+04</td>\n",
       "      <td>4.000000</td>\n",
       "      <td>0.000000</td>\n",
       "      <td>0.000000</td>\n",
       "      <td>0.000000</td>\n",
       "      <td>0.000000</td>\n",
       "      <td>0.00000</td>\n",
       "      <td>0.000000</td>\n",
       "      <td>0.000000</td>\n",
       "      <td>0.000000</td>\n",
       "      <td>0.000000</td>\n",
       "      <td>3.271200e+04</td>\n",
       "      <td>6.000000</td>\n",
       "    </tr>\n",
       "    <tr>\n",
       "      <th>50%</th>\n",
       "      <td>32719.000000</td>\n",
       "      <td>1.100000e+05</td>\n",
       "      <td>9.000000</td>\n",
       "      <td>10.000000</td>\n",
       "      <td>0.000000</td>\n",
       "      <td>0.000000</td>\n",
       "      <td>20.000000</td>\n",
       "      <td>15.00000</td>\n",
       "      <td>10.000000</td>\n",
       "      <td>5.000000</td>\n",
       "      <td>0.000000</td>\n",
       "      <td>0.000000</td>\n",
       "      <td>6.500000e+04</td>\n",
       "      <td>7.000000</td>\n",
       "    </tr>\n",
       "    <tr>\n",
       "      <th>75%</th>\n",
       "      <td>49078.000000</td>\n",
       "      <td>2.500000e+05</td>\n",
       "      <td>16.000000</td>\n",
       "      <td>22.000000</td>\n",
       "      <td>5.000000</td>\n",
       "      <td>10.000000</td>\n",
       "      <td>30.000000</td>\n",
       "      <td>30.00000</td>\n",
       "      <td>25.000000</td>\n",
       "      <td>20.000000</td>\n",
       "      <td>10.000000</td>\n",
       "      <td>10.000000</td>\n",
       "      <td>1.079715e+05</td>\n",
       "      <td>8.000000</td>\n",
       "    </tr>\n",
       "    <tr>\n",
       "      <th>max</th>\n",
       "      <td>65437.000000</td>\n",
       "      <td>1.000000e+150</td>\n",
       "      <td>50.000000</td>\n",
       "      <td>100.000000</td>\n",
       "      <td>100.000000</td>\n",
       "      <td>100.000000</td>\n",
       "      <td>100.000000</td>\n",
       "      <td>100.00000</td>\n",
       "      <td>100.000000</td>\n",
       "      <td>100.000000</td>\n",
       "      <td>100.000000</td>\n",
       "      <td>100.000000</td>\n",
       "      <td>1.625660e+07</td>\n",
       "      <td>10.000000</td>\n",
       "    </tr>\n",
       "  </tbody>\n",
       "</table>\n",
       "</div>"
      ],
      "text/plain": [
       "         ResponseId      CompTotal       WorkExp  JobSatPoints_1  \\\n",
       "count  65437.000000   3.374000e+04  29658.000000    29324.000000   \n",
       "mean   32719.000000  2.963841e+145     11.466957       18.581094   \n",
       "std    18890.179119  5.444117e+147      9.168709       25.966221   \n",
       "min        1.000000   0.000000e+00      0.000000        0.000000   \n",
       "25%    16360.000000   6.000000e+04      4.000000        0.000000   \n",
       "50%    32719.000000   1.100000e+05      9.000000       10.000000   \n",
       "75%    49078.000000   2.500000e+05     16.000000       22.000000   \n",
       "max    65437.000000  1.000000e+150     50.000000      100.000000   \n",
       "\n",
       "       JobSatPoints_4  JobSatPoints_5  JobSatPoints_6  JobSatPoints_7  \\\n",
       "count    29393.000000    29411.000000    29450.000000     29448.00000   \n",
       "mean         7.522140       10.060857       24.343232        22.96522   \n",
       "std         18.422661       21.833836       27.089360        27.01774   \n",
       "min          0.000000        0.000000        0.000000         0.00000   \n",
       "25%          0.000000        0.000000        0.000000         0.00000   \n",
       "50%          0.000000        0.000000       20.000000        15.00000   \n",
       "75%          5.000000       10.000000       30.000000        30.00000   \n",
       "max        100.000000      100.000000      100.000000       100.00000   \n",
       "\n",
       "       JobSatPoints_8  JobSatPoints_9  JobSatPoints_10  JobSatPoints_11  \\\n",
       "count    29456.000000    29456.000000     29450.000000     29445.000000   \n",
       "mean        20.278165       16.169432        10.955713         9.953948   \n",
       "std         26.108110       24.845032        22.906263        21.775652   \n",
       "min          0.000000        0.000000         0.000000         0.000000   \n",
       "25%          0.000000        0.000000         0.000000         0.000000   \n",
       "50%         10.000000        5.000000         0.000000         0.000000   \n",
       "75%         25.000000       20.000000        10.000000        10.000000   \n",
       "max        100.000000      100.000000       100.000000       100.000000   \n",
       "\n",
       "       ConvertedCompYearly        JobSat  \n",
       "count         2.343500e+04  29126.000000  \n",
       "mean          8.615529e+04      6.935041  \n",
       "std           1.867570e+05      2.088259  \n",
       "min           1.000000e+00      0.000000  \n",
       "25%           3.271200e+04      6.000000  \n",
       "50%           6.500000e+04      7.000000  \n",
       "75%           1.079715e+05      8.000000  \n",
       "max           1.625660e+07     10.000000  "
      ]
     },
     "execution_count": 5,
     "metadata": {},
     "output_type": "execute_result"
    }
   ],
   "source": [
    "# Write your code here\n",
    "df.describe()"
   ]
  },
  {
   "cell_type": "markdown",
   "metadata": {},
   "source": [
    "### 3. Identifying and Removing Inconsistencies\n"
   ]
  },
  {
   "cell_type": "markdown",
   "metadata": {},
   "source": [
    "<h5>3.1 Identify inconsistent or irrelevant entries in specific columns (e.g., Country).</h5>\n"
   ]
  },
  {
   "cell_type": "code",
   "execution_count": 6,
   "metadata": {},
   "outputs": [],
   "source": [
    "# Write your code here\n",
    "df['Country'] = df['Country'].str.lower()\n",
    "df['Country'] = df['Country'].str.strip()\n",
    "df['Country'] = df['Country'].replace({'usa': 'united states', 'u.k.': 'united kingdom'})"
   ]
  },
  {
   "cell_type": "markdown",
   "metadata": {},
   "source": [
    "<h5>3.2 Standardize entries in columns like Country or EdLevel by mapping inconsistent values to a consistent format.</h5>\n"
   ]
  },
  {
   "cell_type": "code",
   "execution_count": 7,
   "metadata": {},
   "outputs": [
    {
     "name": "stdout",
     "output_type": "stream",
     "text": [
      "['Primary/elementary school'\n",
      " 'Bachelor’s degree (B.A., B.S., B.Eng., etc.)'\n",
      " 'Master’s degree (M.A., M.S., M.Eng., MBA, etc.)'\n",
      " 'Some college/university study without earning a degree'\n",
      " 'Secondary school (e.g. American high school, German Realschule or Gymnasium, etc.)'\n",
      " 'Professional degree (JD, MD, Ph.D, Ed.D, etc.)'\n",
      " 'Associate degree (A.A., A.S., etc.)' 'Something else' nan]\n"
     ]
    }
   ],
   "source": [
    "## Write your code here\n",
    "print(df['EdLevel'].unique())"
   ]
  },
  {
   "cell_type": "markdown",
   "metadata": {},
   "source": [
    "### 4. Encoding Categorical Variables\n"
   ]
  },
  {
   "cell_type": "markdown",
   "metadata": {},
   "source": [
    "<h5>4.1 Encode the Employment column using one-hot encoding.</h5>\n"
   ]
  },
  {
   "cell_type": "code",
   "execution_count": null,
   "metadata": {},
   "outputs": [],
   "source": [
    "## Write your code here\n",
    "df_encoded = pd.get_dummies(df, columns=['Employment'], drop_first=True)"
   ]
  },
  {
   "cell_type": "markdown",
   "metadata": {},
   "source": [
    "### 5. Handling Missing Values\n"
   ]
  },
  {
   "cell_type": "markdown",
   "metadata": {},
   "source": [
    "<h5>5.1 Identify columns with the highest number of missing values.</h5>\n"
   ]
  },
  {
   "cell_type": "code",
   "execution_count": 8,
   "metadata": {},
   "outputs": [
    {
     "name": "stdout",
     "output_type": "stream",
     "text": [
      "AINextMuch less integrated    64289\n",
      "AINextLess integrated         63082\n",
      "AINextNo change               52939\n",
      "AINextMuch more integrated    51999\n",
      "EmbeddedAdmired               48704\n",
      "                              ...  \n",
      "MainBranch                        0\n",
      "Age                               0\n",
      "Employment                        0\n",
      "Check                             0\n",
      "ResponseId                        0\n",
      "Length: 114, dtype: int64\n"
     ]
    }
   ],
   "source": [
    "## Write your code here\n",
    "missing_values_count = df.isnull().sum()\n",
    "sorted_missing_values = missing_values_count.sort_values(ascending=False)\n",
    "print(sorted_missing_values)"
   ]
  },
  {
   "cell_type": "markdown",
   "metadata": {},
   "source": [
    "<h5>5.2 Impute missing values in numerical columns (e.g., `ConvertedCompYearly`) with the mean or median.</h5>\n"
   ]
  },
  {
   "cell_type": "code",
   "execution_count": 9,
   "metadata": {},
   "outputs": [
    {
     "name": "stdout",
     "output_type": "stream",
     "text": [
      "\n",
      "DataFrame after mean imputation for 'ConvertedCompYearly':\n",
      "       ResponseId                      MainBranch                 Age  \\\n",
      "0               1  I am a developer by profession  Under 18 years old   \n",
      "1               2  I am a developer by profession     35-44 years old   \n",
      "2               3  I am a developer by profession     45-54 years old   \n",
      "3               4           I am learning to code     18-24 years old   \n",
      "4               5  I am a developer by profession     18-24 years old   \n",
      "...           ...                             ...                 ...   \n",
      "65432       65433  I am a developer by profession     18-24 years old   \n",
      "65433       65434  I am a developer by profession     25-34 years old   \n",
      "65434       65435  I am a developer by profession     25-34 years old   \n",
      "65435       65436  I am a developer by profession     18-24 years old   \n",
      "65436       65437     I code primarily as a hobby     18-24 years old   \n",
      "\n",
      "                Employment                            RemoteWork   Check  \\\n",
      "0      Employed, full-time                                Remote  Apples   \n",
      "1      Employed, full-time                                Remote  Apples   \n",
      "2      Employed, full-time                                Remote  Apples   \n",
      "3       Student, full-time                                   NaN  Apples   \n",
      "4       Student, full-time                                   NaN  Apples   \n",
      "...                    ...                                   ...     ...   \n",
      "65432  Employed, full-time                                Remote  Apples   \n",
      "65433  Employed, full-time                                Remote  Apples   \n",
      "65434  Employed, full-time                             In-person  Apples   \n",
      "65435  Employed, full-time  Hybrid (some remote, some in-person)  Apples   \n",
      "65436   Student, full-time                                   NaN  Apples   \n",
      "\n",
      "                                        CodingActivities  \\\n",
      "0                                                  Hobby   \n",
      "1      Hobby;Contribute to open-source projects;Other...   \n",
      "2      Hobby;Contribute to open-source projects;Other...   \n",
      "3                                                    NaN   \n",
      "4                                                    NaN   \n",
      "...                                                  ...   \n",
      "65432                      Hobby;School or academic work   \n",
      "65433           Hobby;Contribute to open-source projects   \n",
      "65434                                              Hobby   \n",
      "65435  Hobby;Contribute to open-source projects;Profe...   \n",
      "65436                                                NaN   \n",
      "\n",
      "                                                 EdLevel  \\\n",
      "0                              Primary/elementary school   \n",
      "1           Bachelor’s degree (B.A., B.S., B.Eng., etc.)   \n",
      "2        Master’s degree (M.A., M.S., M.Eng., MBA, etc.)   \n",
      "3      Some college/university study without earning ...   \n",
      "4      Secondary school (e.g. American high school, G...   \n",
      "...                                                  ...   \n",
      "65432       Bachelor’s degree (B.A., B.S., B.Eng., etc.)   \n",
      "65433                                                NaN   \n",
      "65434       Bachelor’s degree (B.A., B.S., B.Eng., etc.)   \n",
      "65435  Secondary school (e.g. American high school, G...   \n",
      "65436                                                NaN   \n",
      "\n",
      "                                               LearnCode  \\\n",
      "0                                 Books / Physical media   \n",
      "1      Books / Physical media;Colleague;On the job tr...   \n",
      "2      Books / Physical media;Colleague;On the job tr...   \n",
      "3      Other online resources (e.g., videos, blogs, f...   \n",
      "4      Other online resources (e.g., videos, blogs, f...   \n",
      "...                                                  ...   \n",
      "65432  On the job training;School (i.e., University, ...   \n",
      "65433                                                NaN   \n",
      "65434  Other online resources (e.g., videos, blogs, f...   \n",
      "65435  On the job training;Other online resources (e....   \n",
      "65436                                                NaN   \n",
      "\n",
      "                                         LearnCodeOnline  ... JobSatPoints_6  \\\n",
      "0                                                    NaN  ...            NaN   \n",
      "1      Technical documentation;Blogs;Books;Written Tu...  ...            0.0   \n",
      "2      Technical documentation;Blogs;Books;Written Tu...  ...            NaN   \n",
      "3      Stack Overflow;How-to videos;Interactive tutorial  ...            NaN   \n",
      "4      Technical documentation;Blogs;Written Tutorial...  ...            NaN   \n",
      "...                                                  ...  ...            ...   \n",
      "65432                                                NaN  ...            NaN   \n",
      "65433                                                NaN  ...            NaN   \n",
      "65434  Technical documentation;Stack Overflow;Social ...  ...            NaN   \n",
      "65435  Technical documentation;Blogs;Written Tutorial...  ...            0.0   \n",
      "65436                                                NaN  ...            NaN   \n",
      "\n",
      "      JobSatPoints_7 JobSatPoints_8 JobSatPoints_9 JobSatPoints_10  \\\n",
      "0                NaN            NaN            NaN             NaN   \n",
      "1                0.0            0.0            0.0             0.0   \n",
      "2                NaN            NaN            NaN             NaN   \n",
      "3                NaN            NaN            NaN             NaN   \n",
      "4                NaN            NaN            NaN             NaN   \n",
      "...              ...            ...            ...             ...   \n",
      "65432            NaN            NaN            NaN             NaN   \n",
      "65433            NaN            NaN            NaN             NaN   \n",
      "65434            NaN            NaN            NaN             NaN   \n",
      "65435            0.0            0.0            0.0             0.0   \n",
      "65436            NaN            NaN            NaN             NaN   \n",
      "\n",
      "      JobSatPoints_11           SurveyLength SurveyEase ConvertedCompYearly  \\\n",
      "0                 NaN                    NaN        NaN        86155.287263   \n",
      "1                 0.0                    NaN        NaN        86155.287263   \n",
      "2                 NaN  Appropriate in length       Easy        86155.287263   \n",
      "3                 NaN               Too long       Easy        86155.287263   \n",
      "4                 NaN              Too short       Easy        86155.287263   \n",
      "...               ...                    ...        ...                 ...   \n",
      "65432             NaN                    NaN        NaN        86155.287263   \n",
      "65433             NaN                    NaN        NaN        86155.287263   \n",
      "65434             NaN                    NaN        NaN        86155.287263   \n",
      "65435             0.0                    NaN        NaN        86155.287263   \n",
      "65436             NaN                    NaN        NaN        86155.287263   \n",
      "\n",
      "      JobSat  \n",
      "0        NaN  \n",
      "1        NaN  \n",
      "2        NaN  \n",
      "3        NaN  \n",
      "4        NaN  \n",
      "...      ...  \n",
      "65432    NaN  \n",
      "65433    NaN  \n",
      "65434    NaN  \n",
      "65435    NaN  \n",
      "65436    NaN  \n",
      "\n",
      "[65437 rows x 114 columns]\n"
     ]
    },
    {
     "name": "stderr",
     "output_type": "stream",
     "text": [
      "/tmp/ipykernel_691/3364056587.py:3: FutureWarning: A value is trying to be set on a copy of a DataFrame or Series through chained assignment using an inplace method.\n",
      "The behavior will change in pandas 3.0. This inplace method will never work because the intermediate object on which we are setting values always behaves as a copy.\n",
      "\n",
      "For example, when doing 'df[col].method(value, inplace=True)', try using 'df.method({col: value}, inplace=True)' or df[col] = df[col].method(value) instead, to perform the operation inplace on the original object.\n",
      "\n",
      "\n",
      "  df['ConvertedCompYearly'].fillna(mean, inplace=True)\n"
     ]
    }
   ],
   "source": [
    "## Write your code here\n",
    "mean = df['ConvertedCompYearly'].mean()\n",
    "df['ConvertedCompYearly'].fillna(mean, inplace=True)\n",
    "\n",
    "print(\"\\nDataFrame after mean imputation for 'ConvertedCompYearly':\")\n",
    "print(df)"
   ]
  },
  {
   "cell_type": "markdown",
   "metadata": {},
   "source": [
    "<h5>5.3 Impute missing values in categorical columns (e.g., `RemoteWork`) with the most frequent value.</h5>\n"
   ]
  },
  {
   "cell_type": "code",
   "execution_count": 11,
   "metadata": {},
   "outputs": [
    {
     "name": "stdout",
     "output_type": "stream",
     "text": [
      "\n",
      "DataFrame after imputation:\n",
      "       ResponseId                      MainBranch                 Age  \\\n",
      "0               1  I am a developer by profession  Under 18 years old   \n",
      "1               2  I am a developer by profession     35-44 years old   \n",
      "2               3  I am a developer by profession     45-54 years old   \n",
      "3               4           I am learning to code     18-24 years old   \n",
      "4               5  I am a developer by profession     18-24 years old   \n",
      "...           ...                             ...                 ...   \n",
      "65432       65433  I am a developer by profession     18-24 years old   \n",
      "65433       65434  I am a developer by profession     25-34 years old   \n",
      "65434       65435  I am a developer by profession     25-34 years old   \n",
      "65435       65436  I am a developer by profession     18-24 years old   \n",
      "65436       65437     I code primarily as a hobby     18-24 years old   \n",
      "\n",
      "                Employment                            RemoteWork   Check  \\\n",
      "0      Employed, full-time                                Remote  Apples   \n",
      "1      Employed, full-time                                Remote  Apples   \n",
      "2      Employed, full-time                                Remote  Apples   \n",
      "3       Student, full-time  Hybrid (some remote, some in-person)  Apples   \n",
      "4       Student, full-time  Hybrid (some remote, some in-person)  Apples   \n",
      "...                    ...                                   ...     ...   \n",
      "65432  Employed, full-time                                Remote  Apples   \n",
      "65433  Employed, full-time                                Remote  Apples   \n",
      "65434  Employed, full-time                             In-person  Apples   \n",
      "65435  Employed, full-time  Hybrid (some remote, some in-person)  Apples   \n",
      "65436   Student, full-time  Hybrid (some remote, some in-person)  Apples   \n",
      "\n",
      "                                        CodingActivities  \\\n",
      "0                                                  Hobby   \n",
      "1      Hobby;Contribute to open-source projects;Other...   \n",
      "2      Hobby;Contribute to open-source projects;Other...   \n",
      "3                                                    NaN   \n",
      "4                                                    NaN   \n",
      "...                                                  ...   \n",
      "65432                      Hobby;School or academic work   \n",
      "65433           Hobby;Contribute to open-source projects   \n",
      "65434                                              Hobby   \n",
      "65435  Hobby;Contribute to open-source projects;Profe...   \n",
      "65436                                                NaN   \n",
      "\n",
      "                                                 EdLevel  \\\n",
      "0                              Primary/elementary school   \n",
      "1           Bachelor’s degree (B.A., B.S., B.Eng., etc.)   \n",
      "2        Master’s degree (M.A., M.S., M.Eng., MBA, etc.)   \n",
      "3      Some college/university study without earning ...   \n",
      "4      Secondary school (e.g. American high school, G...   \n",
      "...                                                  ...   \n",
      "65432       Bachelor’s degree (B.A., B.S., B.Eng., etc.)   \n",
      "65433                                                NaN   \n",
      "65434       Bachelor’s degree (B.A., B.S., B.Eng., etc.)   \n",
      "65435  Secondary school (e.g. American high school, G...   \n",
      "65436                                                NaN   \n",
      "\n",
      "                                               LearnCode  \\\n",
      "0                                 Books / Physical media   \n",
      "1      Books / Physical media;Colleague;On the job tr...   \n",
      "2      Books / Physical media;Colleague;On the job tr...   \n",
      "3      Other online resources (e.g., videos, blogs, f...   \n",
      "4      Other online resources (e.g., videos, blogs, f...   \n",
      "...                                                  ...   \n",
      "65432  On the job training;School (i.e., University, ...   \n",
      "65433                                                NaN   \n",
      "65434  Other online resources (e.g., videos, blogs, f...   \n",
      "65435  On the job training;Other online resources (e....   \n",
      "65436                                                NaN   \n",
      "\n",
      "                                         LearnCodeOnline  ... JobSatPoints_6  \\\n",
      "0                                                    NaN  ...            NaN   \n",
      "1      Technical documentation;Blogs;Books;Written Tu...  ...            0.0   \n",
      "2      Technical documentation;Blogs;Books;Written Tu...  ...            NaN   \n",
      "3      Stack Overflow;How-to videos;Interactive tutorial  ...            NaN   \n",
      "4      Technical documentation;Blogs;Written Tutorial...  ...            NaN   \n",
      "...                                                  ...  ...            ...   \n",
      "65432                                                NaN  ...            NaN   \n",
      "65433                                                NaN  ...            NaN   \n",
      "65434  Technical documentation;Stack Overflow;Social ...  ...            NaN   \n",
      "65435  Technical documentation;Blogs;Written Tutorial...  ...            0.0   \n",
      "65436                                                NaN  ...            NaN   \n",
      "\n",
      "      JobSatPoints_7 JobSatPoints_8 JobSatPoints_9 JobSatPoints_10  \\\n",
      "0                NaN            NaN            NaN             NaN   \n",
      "1                0.0            0.0            0.0             0.0   \n",
      "2                NaN            NaN            NaN             NaN   \n",
      "3                NaN            NaN            NaN             NaN   \n",
      "4                NaN            NaN            NaN             NaN   \n",
      "...              ...            ...            ...             ...   \n",
      "65432            NaN            NaN            NaN             NaN   \n",
      "65433            NaN            NaN            NaN             NaN   \n",
      "65434            NaN            NaN            NaN             NaN   \n",
      "65435            0.0            0.0            0.0             0.0   \n",
      "65436            NaN            NaN            NaN             NaN   \n",
      "\n",
      "      JobSatPoints_11           SurveyLength SurveyEase ConvertedCompYearly  \\\n",
      "0                 NaN                    NaN        NaN        86155.287263   \n",
      "1                 0.0                    NaN        NaN        86155.287263   \n",
      "2                 NaN  Appropriate in length       Easy        86155.287263   \n",
      "3                 NaN               Too long       Easy        86155.287263   \n",
      "4                 NaN              Too short       Easy        86155.287263   \n",
      "...               ...                    ...        ...                 ...   \n",
      "65432             NaN                    NaN        NaN        86155.287263   \n",
      "65433             NaN                    NaN        NaN        86155.287263   \n",
      "65434             NaN                    NaN        NaN        86155.287263   \n",
      "65435             0.0                    NaN        NaN        86155.287263   \n",
      "65436             NaN                    NaN        NaN        86155.287263   \n",
      "\n",
      "      JobSat  \n",
      "0        NaN  \n",
      "1        NaN  \n",
      "2        NaN  \n",
      "3        NaN  \n",
      "4        NaN  \n",
      "...      ...  \n",
      "65432    NaN  \n",
      "65433    NaN  \n",
      "65434    NaN  \n",
      "65435    NaN  \n",
      "65436    NaN  \n",
      "\n",
      "[65437 rows x 114 columns]\n"
     ]
    }
   ],
   "source": [
    "## Write your code here\n",
    "mode_remote_work = df['RemoteWork'].mode()[0]\n",
    "df['RemoteWork'].fillna(mode_remote_work, inplace=True)\n",
    "\n",
    "print(\"\\nDataFrame after imputation:\")\n",
    "print(df)"
   ]
  },
  {
   "cell_type": "markdown",
   "metadata": {},
   "source": [
    "### 6. Feature Scaling and Transformation\n"
   ]
  },
  {
   "cell_type": "markdown",
   "metadata": {},
   "source": [
    "<h5>6.1 Apply Min-Max Scaling to normalize the `ConvertedCompYearly` column.</h5>\n"
   ]
  },
  {
   "cell_type": "code",
   "execution_count": 17,
   "metadata": {},
   "outputs": [],
   "source": [
    "## Write your code here\n",
    "converted_comp_yearly_reshaped = df['ConvertedCompYearly'] / df['ConvertedCompYearly'].max()\n",
    "\n",
    "df['ConvertedCompYearly_normalized'] = converted_comp_yearly_reshaped "
   ]
  },
  {
   "cell_type": "markdown",
   "metadata": {},
   "source": [
    "<h5>6.2 Log-transform the ConvertedCompYearly column to reduce skewness.</h5>\n"
   ]
  },
  {
   "cell_type": "code",
   "execution_count": 18,
   "metadata": {},
   "outputs": [],
   "source": [
    "## Write your code here\n",
    "import numpy as np\n",
    "df['ConvertedCompYearly_log_e'] = np.log(df['ConvertedCompYearly'] + 1)"
   ]
  },
  {
   "cell_type": "markdown",
   "metadata": {},
   "source": [
    "### 7. Feature Engineering\n"
   ]
  },
  {
   "cell_type": "markdown",
   "metadata": {},
   "source": [
    "<h5>7.1 Create a new column `ExperienceLevel` based on the `YearsCodePro` column:</h5>\n"
   ]
  },
  {
   "cell_type": "code",
   "execution_count": 22,
   "metadata": {},
   "outputs": [
    {
     "ename": "SyntaxError",
     "evalue": "invalid syntax (4021222689.py, line 2)",
     "output_type": "error",
     "traceback": [
      "\u001b[0;36m  Cell \u001b[0;32mIn[22], line 2\u001b[0;36m\u001b[0m\n\u001b[0;31m    def get_experience_level(df[\"YearsCodePro\"]):\u001b[0m\n\u001b[0m                               ^\u001b[0m\n\u001b[0;31mSyntaxError\u001b[0m\u001b[0;31m:\u001b[0m invalid syntax\n"
     ]
    }
   ],
   "source": [
    "## Write your code here\n",
    "def get_experience_level(df[\"YearsCodePro\"]):\n",
    "    if 'Less than 1 year' in years_code_pro:\n",
    "        return 'Entry-Level'\n",
    "    elif '1-2 years' in years_code_pro:\n",
    "        return 'Junior'\n",
    "    elif '3-5 years' in years_code_pro:\n",
    "        return 'Mid-Level'\n",
    "    elif '6-10 years' in years_code_pro:\n",
    "        return 'Senior'\n",
    "    elif '11-20 years' in years_code_pro:\n",
    "        return 'Lead'\n",
    "    elif 'More than 20 years' in years_code_pro:\n",
    "        return 'Principal/Architect'\n",
    "    else:\n",
    "        return 'Unknown' # Handle cases not covered by the above\n",
    "\n",
    "# Apply the function to create the new column\n",
    "df['ExperienceLevel'] = df['YearsCodePro'].apply(get_experience_level)\n"
   ]
  },
  {
   "cell_type": "markdown",
   "metadata": {},
   "source": [
    "### Summary\n"
   ]
  },
  {
   "cell_type": "markdown",
   "metadata": {},
   "source": [
    "In this lab, you:\n",
    "\n",
    "- Explored the dataset to identify inconsistencies and missing values.\n",
    "\n",
    "- Encoded categorical variables for analysis.\n",
    "\n",
    "- Handled missing values using imputation techniques.\n",
    "\n",
    "- Normalized and transformed numerical data to prepare it for analysis.\n",
    "\n",
    "- Engineered a new feature to enhance data interpretation.\n"
   ]
  },
  {
   "cell_type": "markdown",
   "metadata": {},
   "source": [
    "Copyright © IBM Corporation. All rights reserved.\n"
   ]
  }
 ],
 "metadata": {
  "kernelspec": {
   "display_name": "Python 3 (ipykernel)",
   "language": "python",
   "name": "python3"
  },
  "language_info": {
   "codemirror_mode": {
    "name": "ipython",
    "version": 3
   },
   "file_extension": ".py",
   "mimetype": "text/x-python",
   "name": "python",
   "nbconvert_exporter": "python",
   "pygments_lexer": "ipython3",
   "version": "3.12.8"
  },
  "prev_pub_hash": "1e8e234f19fd098e27b0518a87f18de690e1c51f1d3263d5690927d19971251e"
 },
 "nbformat": 4,
 "nbformat_minor": 4
}
